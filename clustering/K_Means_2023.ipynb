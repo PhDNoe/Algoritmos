{
  "nbformat": 4,
  "nbformat_minor": 0,
  "metadata": {
    "colab": {
      "provenance": [],
      "authorship_tag": "ABX9TyOTB4x+QT5Do1gJr88ZDVu3",
      "include_colab_link": true
    },
    "kernelspec": {
      "name": "python3",
      "display_name": "Python 3"
    },
    "language_info": {
      "name": "python"
    }
  },
  "cells": [
    {
      "cell_type": "markdown",
      "metadata": {
        "id": "view-in-github",
        "colab_type": "text"
      },
      "source": [
        "<a href=\"https://colab.research.google.com/github/PhDNoe/Algoritmos/blob/main/clustering/K_Means_2023.ipynb\" target=\"_parent\"><img src=\"https://colab.research.google.com/assets/colab-badge.svg\" alt=\"Open In Colab\"/></a>"
      ]
    },
    {
      "cell_type": "markdown",
      "source": [
        "![divider](https://user-images.githubusercontent.com/7065401/52071927-c1cd7100-2562-11e9-908a-dde91ba14e59.png)\n",
        "\n",
        "# K-Means\n",
        "\n",
        "\n",
        "### **Definición de la Clase**\n",
        "\n",
        "![purple-divider](https://user-images.githubusercontent.com/7065401/52071927-c1cd7100-2562-11e9-908a-dde91ba14e59.png)\n"
      ],
      "metadata": {
        "id": "uaabFtf0q3yz"
      }
    },
    {
      "cell_type": "code",
      "execution_count": 1,
      "metadata": {
        "id": "PeBbULFLqcw-"
      },
      "outputs": [],
      "source": [
        "import numpy as np\n",
        "import matplotlib.pyplot as plt\n",
        "\n",
        "class KMeans:\n",
        "    def __init__(self, n_clusters=2, max_iter=300):\n",
        "        self.n_clusters = n_clusters\n",
        "        self.max_iter = max_iter\n",
        "\n",
        "    def fit(self, X):\n",
        "        self.centroids = {}\n",
        "        # Initialize the centroids randomly\n",
        "        for i in range(self.n_clusters):\n",
        "            self.centroids[i] = X[i]\n",
        "        for i in range(self.max_iter):\n",
        "            self.clusters = {}\n",
        "            for j in range(self.n_clusters):\n",
        "                self.clusters[j] = []\n",
        "            # Assign each data point to the closest centroid\n",
        "            for x in X:\n",
        "                distances = [np.linalg.norm(x - self.centroids[c]) for c in self.centroids]\n",
        "                cluster = distances.index(min(distances))\n",
        "                self.clusters[cluster].append(x)\n",
        "            # Update the centroids\n",
        "            prev_centroids = dict(self.centroids)\n",
        "            for cluster in self.clusters:\n",
        "                self.centroids[cluster] = np.average(self.clusters[cluster], axis=0)\n",
        "            # Check for convergence\n",
        "            is_converged = True\n",
        "            for c in self.centroids:\n",
        "                if not np.array_equal(self.centroids[c], prev_centroids[c]):\n",
        "                    is_converged = False\n",
        "                    break\n",
        "            if is_converged:\n",
        "                break\n",
        "\n",
        "    def predict(self, X):\n",
        "        distances = [np.linalg.norm(X - self.centroids[c]) for c in self.centroids]\n",
        "        cluster = distances.index(min(distances))\n",
        "        return cluster\n"
      ]
    },
    {
      "cell_type": "markdown",
      "source": [
        "![divider](https://user-images.githubusercontent.com/7065401/52071927-c1cd7100-2562-11e9-908a-dde91ba14e59.png)\n",
        "\n",
        "### Probamos el algoritmo con un conjunto básico de datos\n",
        "\n",
        "![divider](https://user-images.githubusercontent.com/7065401/52071927-c1cd7100-2562-11e9-908a-dde91ba14e59.png)"
      ],
      "metadata": {
        "id": "ic5hZTf9rcbT"
      }
    },
    {
      "cell_type": "code",
      "source": [
        "X = np.array([[1, 2], [1.5, 1.8], [5, 8], [8, 8], [1, 0.6], [9, 11]])\n",
        "kmeans = KMeans(n_clusters=2)\n",
        "kmeans.fit(X)\n",
        "\n",
        "colors = [\"g\", \"r\"]\n",
        "\n",
        "for cluster in kmeans.clusters:\n",
        "    color = colors[cluster]\n",
        "    for x in kmeans.clusters[cluster]:\n",
        "        plt.scatter(x[0], x[1], color=color)\n",
        "\n",
        "for c in kmeans.centroids:\n",
        "    plt.scatter(kmeans.centroids[c][0], kmeans.centroids[c][1], color=\"k\", marker=\"*\", s=100)\n",
        "\n",
        "plt.show()\n"
      ],
      "metadata": {
        "colab": {
          "base_uri": "https://localhost:8080/",
          "height": 265
        },
        "id": "WuMTMU5HqzBz",
        "outputId": "c0ccbcb7-96e0-427a-9f39-ead5cbd189b4"
      },
      "execution_count": 2,
      "outputs": [
        {
          "output_type": "display_data",
          "data": {
            "text/plain": [
              "<Figure size 432x288 with 1 Axes>"
            ],
            "image/png": "[encoded data removed]"
          },
          "metadata": {
            "needs_background": "light"
          }
        }
      ]
    },
    {
      "cell_type": "markdown",
      "source": [
        "![divider](https://user-images.githubusercontent.com/7065401/52071927-c1cd7100-2562-11e9-908a-dde91ba14e59.png)\n",
        "### Ahora probamos con el Iris dataset\n",
        "\n",
        "![divider](https://user-images.githubusercontent.com/7065401/52071927-c1cd7100-2562-11e9-908a-dde91ba14e59.png)"
      ],
      "metadata": {
        "id": "pBM7Lg4irn5z"
      }
    },
    {
      "cell_type": "code",
      "source": [
        "from sklearn import datasets\n",
        "from random import randint\n",
        "\n",
        "iris = datasets.load_iris()\n",
        "X_iris = iris.data\n",
        "y_iris = iris.target\n",
        "labels = iris.feature_names\n",
        "\n",
        "\n",
        "# El dataset iris tiene 3 features\n",
        "nro_clusters = 3\n",
        "\n",
        "# Generamos un color para cada cluster\n",
        "colors = []\n",
        "\n",
        "for i in range(nro_clusters):\n",
        "    colors.append('#%06X' % randint(0, 0xFFFFFF))\n",
        "\n",
        "\n",
        "kmeans = KMeans(n_clusters=nro_clusters)\n",
        "kmeans.fit(X_iris)\n",
        "\n",
        "\n",
        "\n",
        "\n",
        "for cluster in kmeans.clusters:\n",
        "    color = colors[cluster]\n",
        "    for x in kmeans.clusters[cluster]:\n",
        "        plt.scatter(x[0], x[1], color=color)\n",
        "\n",
        "for c in kmeans.centroids:\n",
        "    plt.scatter(kmeans.centroids[c][0], kmeans.centroids[c][1], color=\"k\", marker=\"*\", s=100)\n",
        "\n",
        "plt.show()\n"
      ],
      "metadata": {
        "colab": {
          "base_uri": "https://localhost:8080/",
          "height": 268
        },
        "id": "UE48xU3ort_m",
        "outputId": "0e5db599-801f-424e-ffed-30de46caefc9"
      },
      "execution_count": 4,
      "outputs": [
        {
          "output_type": "display_data",
          "data": {
            "text/plain": [
              "<Figure size 432x288 with 1 Axes>"
            ],
            "image/png": "[encoded data removed]"
          },
          "metadata": {
            "needs_background": "light"
          }
        }
      ]
    }
  ]
}